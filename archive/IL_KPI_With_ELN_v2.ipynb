{
 "cells": [
  {
   "cell_type": "code",
   "execution_count": null,
   "metadata": {},
   "outputs": [],
   "source": [
    "import os\n",
    "# os.chdir('../')\n",
    "# os.getcwd()\n",
    "%load_ext autoreload\n",
    "%autoreload 2\n",
    "import src.forecaster.diagnostic as diagnostic\n",
    "import  src.forecaster.modelil as mod\n",
    "import src.forecaster.utilitaires as util\n",
    "import pandas as pd\n",
    "import warnings\n",
    "warnings.filterwarnings('ignore')\n",
    "\n",
    "\n",
    "raw_master = pd.read_csv('data/raw/raw_master_il_1019.csv')\n",
    "\n",
    "fc_eln = pd.read_csv('data/raw/DI/di_forecast.csv')"
   ]
  },
  {
   "cell_type": "code",
   "execution_count": null,
   "metadata": {},
   "outputs": [],
   "source": [
    "mod = mod.Modelil(raw_master)\n",
    "\n",
    "max_date_available = mod.all_sales.calendar_yearmonth.max()\n",
    "filter_date = min(201908, max_date_available)\n",
    "dwps = util.create_list_period(201601, filter_date, False)\n",
    "dwp, dtp = util.get_all_combination_date(dwps, 10)\n",
    "\n",
    "print(\"creating the main table\")\n",
    "table_all_features = mod.create_all_features(dwp, dtp)"
   ]
  },
  {
   "cell_type": "code",
   "execution_count": null,
   "metadata": {},
   "outputs": [],
   "source": [
    "from copy import deepcopy\n",
    "\n",
    "XGBOOST_PARAMETERS = {\n",
    "            'max_depth': 11,  # 25\n",
    "            'gamma': 0.02,\n",
    "            'subsample': 0.4,\n",
    "            'n_estimators': 27,\n",
    "            'learning_rate': 0.1,\n",
    "            'n_jobs': 12,\n",
    "            'verbosity': 2\n",
    "        }\n",
    "dico_params_eib = {}\n",
    "for i in range(1,11):\n",
    "    dico_params_eib[i] = XGBOOST_PARAMETERS.copy()\n",
    "\n",
    "#dico_params[7]['n_estimators'] = 49\n",
    "dico_params_eib[5]['n_estimators'] = 27 \n",
    "dico_params_eib[6]['n_estimators'] = 45\n",
    "dico_params_eib[7]['n_estimators'] = 31  \n",
    "dico_params_eib[8]['n_estimators'] = 47 \n",
    "dico_params_eib[9]['n_estimators'] = 13 \n",
    "dico_params_eib[10]['n_estimators'] = 27\n",
    "\n",
    "dico_params_di = deepcopy(dico_params_eib)\n",
    "dico_params_di[6]['n_estimators'] = 81"
   ]
  },
  {
   "cell_type": "code",
   "execution_count": null,
   "metadata": {},
   "outputs": [],
   "source": [
    "params={}\n",
    "params['eib']= dico_params_eib\n",
    "params['di'] = dico_params_di"
   ]
  },
  {
   "cell_type": "code",
   "execution_count": null,
   "metadata": {},
   "outputs": [],
   "source": [
    "dwp_test = util.create_list_period(201702, 201902, False)"
   ]
  },
  {
   "cell_type": "code",
   "execution_count": null,
   "metadata": {},
   "outputs": [],
   "source": [
    "res = mod.recreate_past_forecasts(table_all_features, dwp_test, params, max_available_date=201908)"
   ]
  },
  {
   "cell_type": "code",
   "execution_count": null,
   "metadata": {},
   "outputs": [],
   "source": [
    "test = diagnostic.Diagnostic(cvr=res[(res.horizon==6)], raw_master=raw_master, postprocess='indep')\n",
    "temp = test.run_test(plot=False, prediction_horizon=6)"
   ]
  },
  {
   "cell_type": "markdown",
   "metadata": {},
   "source": [
    "# KPIS with atleast 2 years of data at date when predciting"
   ]
  },
  {
   "cell_type": "code",
   "execution_count": null,
   "metadata": {},
   "outputs": [],
   "source": [
    "month_min=24 # minimal age in month at date when predicting\n",
    "pred_horizon = 6\n",
    "test = diagnostic.Diagnostic(cvr=res[(res.horizon==6)], raw_master=raw_master, postprocess='indep')\n",
    "temp = test.run_test(plot=False, prediction_horizon=6, MINIMUM_HISTO = month_min + pred_horizon)"
   ]
  },
  {
   "cell_type": "code",
   "execution_count": null,
   "metadata": {},
   "outputs": [],
   "source": [
    "import numpy as np\n",
    "\n",
    "fc_eln['cycle_month'] = pd.to_datetime(fc_eln['cycle_month'], format= \"%Y-%m\")\n",
    "fc_eln['forecasted_month'] = pd.to_datetime(fc_eln['forecasted_month'], format= \"%Y-%m\")\n",
    "\n",
    "fc_eln['horizon']  = 12 * (fc_eln['forecasted_month'].dt.year - fc_eln['cycle_month'].dt.year) + (fc_eln['forecasted_month'].dt.month - fc_eln['cycle_month'].dt.month)\n",
    "\n",
    "fc_eln['horizon'] = fc_eln['horizon'].astype(int)\n",
    "\n",
    "fc_eln['sku_wo_pkg'] = fc_eln.sku_w_pkg.str.split('_').str[0:3].str.join('_') + '_'+ fc_eln.sku_w_pkg.str.split('_').str[4]\n",
    "\n",
    "fc_eln.horizon += 2\n",
    "fc_eln['label'] = 'di'\n",
    "fc_eln.rename(columns={'forecasted_month':'date_to_predict'}, inplace=True)\n",
    "fc_eln.rename(columns={'cycle_month':'date_when_predicting'}, inplace=True)\n",
    "fc_eln.rename(columns={'forecast':'prediction'}, inplace=True)\n",
    "fc_eln['date_when_predicting'] = fc_eln['date_when_predicting'].dt.strftime('%Y%m')\n",
    "\n",
    "fc_eln_di = fc_eln.groupby(['date_to_predict', 'sku_wo_pkg', 'horizon'])['prediction'].sum().reset_index()\n",
    "\n",
    "tempdi = fc_eln_di.copy()\n",
    "tempeib = res[res.label=='eib'].copy()\n",
    "\n",
    "tempdi['date_to_predict'] = pd.to_datetime(tempdi['date_to_predict']).dt.year.astype(\n",
    "            str) + pd.to_datetime(tempdi['date_to_predict']).dt.month.astype(str).str.zfill(2)\n",
    "tempdi['date_to_predict'] = tempdi['date_to_predict'].astype(int)\n",
    "tempdi['label'] = 'di'"
   ]
  },
  {
   "cell_type": "code",
   "execution_count": null,
   "metadata": {},
   "outputs": [],
   "source": [
    "tempdi.rename(columns={'prediction': 'preddi'}, inplace=True)\n",
    "tempeib.rename(columns={'prediction': 'predeib'}, inplace=True)\n",
    "tempil = pd.merge(\n",
    "tempeib[['date_to_predict', 'sku_wo_pkg', 'predeib', 'horizon']],\n",
    "tempdi[['date_to_predict', 'sku_wo_pkg', 'preddi', 'horizon']],\n",
    "how='left',\n",
    "on=['date_to_predict', 'sku_wo_pkg', 'horizon']\n",
    ")\n",
    "tempdiaug = tempil.copy()\n",
    "tempdiaug['preddi'] = tempil['preddi'].fillna(0)\n",
    "tempdiaug['label']='di'\n",
    "tempdi = tempdiaug\n",
    "tempil['prediction'] = tempil['preddi'].fillna(0) + tempil['predeib'].fillna(0)\n",
    "\n",
    "tempil['label'] = 'il'\n",
    "tempdi.rename(columns={'preddi': 'prediction'}, inplace=True)\n",
    "tempeib.rename(columns={'predeib': 'prediction'}, inplace=True)\n",
    "rescombined= pd.concat([tempdi, tempeib, tempil], sort=True).drop(['preddi', 'predeib'], axis=1, errors=\"ignore\")"
   ]
  },
  {
   "cell_type": "markdown",
   "metadata": {},
   "source": [
    "# KPIs with DI preds replaced by ELN predicitons "
   ]
  },
  {
   "cell_type": "code",
   "execution_count": null,
   "metadata": {},
   "outputs": [],
   "source": [
    "test = diagnostic.Diagnostic(cvr=rescombined[(rescombined.horizon==6)], raw_master=raw_master, postprocess='indep')\n",
    "temp = test.run_test(plot=False, prediction_horizon=6)"
   ]
  },
  {
   "cell_type": "markdown",
   "metadata": {},
   "source": [
    "# BELOW KPIS MIXED AF AND ELN"
   ]
  },
  {
   "cell_type": "code",
   "execution_count": null,
   "metadata": {},
   "outputs": [],
   "source": [
    "from src.forecaster.utilitaires import fa_score, fa_score_prime, bias_score, add_sku_age\n",
    "master_il = add_sku_age(raw_master, 'date', ['sku_wo_pkg'],\n",
    "                                         ['offtake_di', 'offtake_il', 'offtake_eib'],\n",
    "                                         Thre_abs=12, Thre_rel=0.02)\n",
    "\n",
    "\n",
    "\n",
    "cvr = test.ensure_output_format(res[(res.horizon==6)], True)\n",
    "\n",
    "age = master_il[['date', 'sku_wo_pkg', 'country', 'brand', 'tier', 'stage', 'age_offtake_di',\n",
    "                              'age_offtake_il', 'age_offtake_eib']][master_il.date >= cvr.date.min()]\n",
    "age = age.rename(columns={'date': 'date'})\n",
    "age['date'] = pd.to_datetime(age['date'], format='%Y%m')\n",
    "\n",
    "cvr = cvr.merge(age, on=['date', 'sku_wo_pkg'], how='left', validate='m:1').fillna(-99)"
   ]
  },
  {
   "cell_type": "code",
   "execution_count": null,
   "metadata": {},
   "outputs": [],
   "source": [
    "res_corrected = res.copy()"
   ]
  },
  {
   "cell_type": "code",
   "execution_count": null,
   "metadata": {},
   "outputs": [],
   "source": [
    "cvr['date_to_predict'] = pd.to_datetime(cvr['date'], format='%Y-%m-%d')\n",
    "cvr['date_to_predict'] = cvr['date_to_predict'].dt.strftime('%Y%m').astype(int)\n",
    "res_corrected = pd.merge(res_corrected, cvr[['sku_wo_pkg', 'date_to_predict', 'age_offtake_di', 'horizon']], on = ['date_to_predict', 'horizon', 'sku_wo_pkg'] , how = 'left')"
   ]
  },
  {
   "cell_type": "code",
   "execution_count": null,
   "metadata": {},
   "outputs": [],
   "source": [
    "tmp=res_corrected[(res_corrected['label']=='di')&(res_corrected.age_offtake_di>=30)]\n",
    "tmp.rename(columns={'prediction' : 'pred2'},inplace=True)\n",
    "tmp.date_to_predict = tmp.date_to_predict.astype(int)\n",
    "final_res = pd.merge(rescombined, tmp[['sku_wo_pkg', 'date_to_predict', 'label', 'horizon', 'pred2']], how = 'left', on = ['sku_wo_pkg', 'date_to_predict', 'label', 'horizon'])"
   ]
  },
  {
   "cell_type": "code",
   "execution_count": null,
   "metadata": {},
   "outputs": [],
   "source": [
    "final_res.loc[final_res.pred2>0, 'prediction'] = final_res.loc[final_res.pred2>0, 'pred2']"
   ]
  },
  {
   "cell_type": "code",
   "execution_count": null,
   "metadata": {},
   "outputs": [],
   "source": [
    "test = diagnostic.Diagnostic(cvr=final_res[(final_res.horizon==6)], raw_master=raw_master, postprocess='indep')\n",
    "temp = test.run_test(plot=False, prediction_horizon=6)"
   ]
  },
  {
   "cell_type": "code",
   "execution_count": null,
   "metadata": {},
   "outputs": [],
   "source": [
    "tempdi = final_res[final_res.label == 'di']\n",
    "tempeib = final_res[final_res.label == 'eib']\n",
    "tempil = final_res[final_res.label == 'il']\n",
    "\n",
    "tempdi.rename(columns={'prediction': 'preddi'}, inplace=True)\n",
    "tempeib.rename(columns={'prediction': 'predeib'}, inplace=True)\n",
    "tempil = pd.merge(\n",
    "    tempdi[['date_to_predict', 'sku_wo_pkg', 'preddi', 'horizon']],\n",
    "    tempeib[['date_to_predict', 'sku_wo_pkg', 'predeib', 'horizon']],\n",
    "    how='left',\n",
    "    on=['date_to_predict', 'sku_wo_pkg', 'horizon']\n",
    ")\n",
    "tempil['prediction'] = tempil['preddi'] + tempil['predeib']\n",
    "\n",
    "tempil['label'] = 'il'\n",
    "tempdi.rename(columns={'preddi': 'prediction'}, inplace=True)\n",
    "tempeib.rename(columns={'predeib': 'prediction'}, inplace=True)\n",
    "\n",
    "finafinal=pd.concat([tempdi, tempeib, tempil], sort=True).drop(['preddi', 'predeib'], axis=1, errors=\"ignore\")"
   ]
  },
  {
   "cell_type": "code",
   "execution_count": null,
   "metadata": {},
   "outputs": [],
   "source": [
    "test = diagnostic.Diagnostic(cvr=finafinal[(finafinal.horizon==6)], raw_master=raw_master, postprocess='indep')\n",
    "temp = test.run_test(plot=False, prediction_horizon=6)"
   ]
  },
  {
   "cell_type": "code",
   "execution_count": null,
   "metadata": {},
   "outputs": [],
   "source": []
  }
 ],
 "metadata": {
  "kernelspec": {
   "display_name": "Python 3",
   "language": "python",
   "name": "python3"
  },
  "language_info": {
   "codemirror_mode": {
    "name": "ipython",
    "version": 3
   },
   "file_extension": ".py",
   "mimetype": "text/x-python",
   "name": "python",
   "nbconvert_exporter": "python",
   "pygments_lexer": "ipython3",
   "version": "3.7.4"
  }
 },
 "nbformat": 4,
 "nbformat_minor": 4
}
