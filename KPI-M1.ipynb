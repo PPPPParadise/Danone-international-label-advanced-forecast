{
 "cells": [
  {
   "cell_type": "code",
   "execution_count": 1,
   "metadata": {},
   "outputs": [],
   "source": [
    "import os\n",
    "# os.chdir('../')\n",
    "# os.chdir(r'E:\\DANONE\\2019-11-15')\n",
    "# os.getcwd()\n",
    "%load_ext autoreload\n",
    "%autoreload 2\n",
    "import src.forecaster.diagnostic as diagnostic\n",
    "# import src.forecaster.modelil_addbrandsearchindex as mod\n",
    "import src.forecaster.modelil as mod\n",
    "import src.forecaster.utilitaires as util\n",
    "import pandas as pd\n",
    "import warnings\n",
    "warnings.filterwarnings('ignore') \n",
    "\n",
    "\n",
    "raw_master = pd.read_csv('/data/raw/raw_master_il_20200210.csv')\n",
    "\n",
    "# fc_eln = pd.read_csv('./data/di_forecast.csv')   \n"
   ]
  },
  {
   "cell_type": "code",
   "execution_count": 2,
   "metadata": {},
   "outputs": [
    {
     "data": {
      "text/html": [
       "<div>\n",
       "<style scoped>\n",
       "    .dataframe tbody tr th:only-of-type {\n",
       "        vertical-align: middle;\n",
       "    }\n",
       "\n",
       "    .dataframe tbody tr th {\n",
       "        vertical-align: top;\n",
       "    }\n",
       "\n",
       "    .dataframe thead th {\n",
       "        text-align: right;\n",
       "    }\n",
       "</style>\n",
       "<table border=\"1\" class=\"dataframe\">\n",
       "  <thead>\n",
       "    <tr style=\"text-align: right;\">\n",
       "      <th></th>\n",
       "      <th>sku_wo_pkg</th>\n",
       "      <th>country</th>\n",
       "      <th>brand</th>\n",
       "      <th>tier</th>\n",
       "      <th>stage</th>\n",
       "      <th>stage_3f</th>\n",
       "      <th>date</th>\n",
       "      <th>offtake_di</th>\n",
       "      <th>offtake_eib</th>\n",
       "      <th>offtake_il</th>\n",
       "      <th>...</th>\n",
       "      <th>total_vol</th>\n",
       "      <th>if_vol</th>\n",
       "      <th>fo_vol</th>\n",
       "      <th>gum_vol</th>\n",
       "      <th>cl_vol</th>\n",
       "      <th>il_vol</th>\n",
       "      <th>0to6_month_population</th>\n",
       "      <th>6to12_month_population</th>\n",
       "      <th>12to36_month_population</th>\n",
       "      <th>sellin_il</th>\n",
       "    </tr>\n",
       "  </thead>\n",
       "  <tbody>\n",
       "    <tr>\n",
       "      <td>2455</td>\n",
       "      <td>UK_APT_PN_4</td>\n",
       "      <td>UK</td>\n",
       "      <td>APT</td>\n",
       "      <td>PN</td>\n",
       "      <td>4</td>\n",
       "      <td>GUM</td>\n",
       "      <td>12/1/2019</td>\n",
       "      <td>23.4408</td>\n",
       "      <td>36.161759</td>\n",
       "      <td>59.602559</td>\n",
       "      <td>...</td>\n",
       "      <td>38279.12204</td>\n",
       "      <td>6352.147033</td>\n",
       "      <td>7779.149189</td>\n",
       "      <td>24147.82582</td>\n",
       "      <td>29764.25296</td>\n",
       "      <td>8514.869082</td>\n",
       "      <td>620.002194</td>\n",
       "      <td>887.467533</td>\n",
       "      <td>3336.77082</td>\n",
       "      <td>33.418519</td>\n",
       "    </tr>\n",
       "    <tr>\n",
       "      <td>2456</td>\n",
       "      <td>UK_C&amp;G_C&amp;G_1</td>\n",
       "      <td>UK</td>\n",
       "      <td>C&amp;G</td>\n",
       "      <td>C&amp;G</td>\n",
       "      <td>1</td>\n",
       "      <td>IF</td>\n",
       "      <td>12/1/2019</td>\n",
       "      <td>8.4016</td>\n",
       "      <td>21.185492</td>\n",
       "      <td>29.587092</td>\n",
       "      <td>...</td>\n",
       "      <td>38279.12204</td>\n",
       "      <td>6352.147033</td>\n",
       "      <td>7779.149189</td>\n",
       "      <td>24147.82582</td>\n",
       "      <td>29764.25296</td>\n",
       "      <td>8514.869082</td>\n",
       "      <td>620.002194</td>\n",
       "      <td>887.467533</td>\n",
       "      <td>3336.77082</td>\n",
       "      <td>16.372090</td>\n",
       "    </tr>\n",
       "    <tr>\n",
       "      <td>2457</td>\n",
       "      <td>UK_C&amp;G_C&amp;G_2</td>\n",
       "      <td>UK</td>\n",
       "      <td>C&amp;G</td>\n",
       "      <td>C&amp;G</td>\n",
       "      <td>2</td>\n",
       "      <td>FO</td>\n",
       "      <td>12/1/2019</td>\n",
       "      <td>13.6704</td>\n",
       "      <td>11.589102</td>\n",
       "      <td>25.259502</td>\n",
       "      <td>...</td>\n",
       "      <td>38279.12204</td>\n",
       "      <td>6352.147033</td>\n",
       "      <td>7779.149189</td>\n",
       "      <td>24147.82582</td>\n",
       "      <td>29764.25296</td>\n",
       "      <td>8514.869082</td>\n",
       "      <td>620.002194</td>\n",
       "      <td>887.467533</td>\n",
       "      <td>3336.77082</td>\n",
       "      <td>18.346935</td>\n",
       "    </tr>\n",
       "    <tr>\n",
       "      <td>2458</td>\n",
       "      <td>UK_C&amp;G_C&amp;G_3</td>\n",
       "      <td>UK</td>\n",
       "      <td>C&amp;G</td>\n",
       "      <td>C&amp;G</td>\n",
       "      <td>3</td>\n",
       "      <td>GUM</td>\n",
       "      <td>12/1/2019</td>\n",
       "      <td>37.8984</td>\n",
       "      <td>18.005758</td>\n",
       "      <td>55.904158</td>\n",
       "      <td>...</td>\n",
       "      <td>38279.12204</td>\n",
       "      <td>6352.147033</td>\n",
       "      <td>7779.149189</td>\n",
       "      <td>24147.82582</td>\n",
       "      <td>29764.25296</td>\n",
       "      <td>8514.869082</td>\n",
       "      <td>620.002194</td>\n",
       "      <td>887.467533</td>\n",
       "      <td>3336.77082</td>\n",
       "      <td>55.565425</td>\n",
       "    </tr>\n",
       "    <tr>\n",
       "      <td>2459</td>\n",
       "      <td>UK_C&amp;G_C&amp;G_4</td>\n",
       "      <td>UK</td>\n",
       "      <td>C&amp;G</td>\n",
       "      <td>C&amp;G</td>\n",
       "      <td>4</td>\n",
       "      <td>GUM</td>\n",
       "      <td>12/1/2019</td>\n",
       "      <td>27.4408</td>\n",
       "      <td>68.476276</td>\n",
       "      <td>95.917076</td>\n",
       "      <td>...</td>\n",
       "      <td>38279.12204</td>\n",
       "      <td>6352.147033</td>\n",
       "      <td>7779.149189</td>\n",
       "      <td>24147.82582</td>\n",
       "      <td>29764.25296</td>\n",
       "      <td>8514.869082</td>\n",
       "      <td>620.002194</td>\n",
       "      <td>887.467533</td>\n",
       "      <td>3336.77082</td>\n",
       "      <td>22.613759</td>\n",
       "    </tr>\n",
       "  </tbody>\n",
       "</table>\n",
       "<p>5 rows × 31 columns</p>\n",
       "</div>"
      ],
      "text/plain": [
       "        sku_wo_pkg country brand tier stage stage_3f       date  offtake_di  \\\n",
       "2455   UK_APT_PN_4      UK   APT   PN     4      GUM  12/1/2019     23.4408   \n",
       "2456  UK_C&G_C&G_1      UK   C&G  C&G     1       IF  12/1/2019      8.4016   \n",
       "2457  UK_C&G_C&G_2      UK   C&G  C&G     2       FO  12/1/2019     13.6704   \n",
       "2458  UK_C&G_C&G_3      UK   C&G  C&G     3      GUM  12/1/2019     37.8984   \n",
       "2459  UK_C&G_C&G_4      UK   C&G  C&G     4      GUM  12/1/2019     27.4408   \n",
       "\n",
       "      offtake_eib  offtake_il  ...    total_vol       if_vol       fo_vol  \\\n",
       "2455    36.161759   59.602559  ...  38279.12204  6352.147033  7779.149189   \n",
       "2456    21.185492   29.587092  ...  38279.12204  6352.147033  7779.149189   \n",
       "2457    11.589102   25.259502  ...  38279.12204  6352.147033  7779.149189   \n",
       "2458    18.005758   55.904158  ...  38279.12204  6352.147033  7779.149189   \n",
       "2459    68.476276   95.917076  ...  38279.12204  6352.147033  7779.149189   \n",
       "\n",
       "          gum_vol       cl_vol       il_vol  0to6_month_population  \\\n",
       "2455  24147.82582  29764.25296  8514.869082             620.002194   \n",
       "2456  24147.82582  29764.25296  8514.869082             620.002194   \n",
       "2457  24147.82582  29764.25296  8514.869082             620.002194   \n",
       "2458  24147.82582  29764.25296  8514.869082             620.002194   \n",
       "2459  24147.82582  29764.25296  8514.869082             620.002194   \n",
       "\n",
       "      6to12_month_population  12to36_month_population  sellin_il  \n",
       "2455              887.467533               3336.77082  33.418519  \n",
       "2456              887.467533               3336.77082  16.372090  \n",
       "2457              887.467533               3336.77082  18.346935  \n",
       "2458              887.467533               3336.77082  55.565425  \n",
       "2459              887.467533               3336.77082  22.613759  \n",
       "\n",
       "[5 rows x 31 columns]"
      ]
     },
     "execution_count": 2,
     "metadata": {},
     "output_type": "execute_result"
    }
   ],
   "source": [
    "raw_master.tail()"
   ]
  },
  {
   "cell_type": "code",
   "execution_count": 3,
   "metadata": {},
   "outputs": [
    {
     "name": "stdout",
     "output_type": "stream",
     "text": [
      "creating the main table\n"
     ]
    }
   ],
   "source": [
    "mod = mod.Modelil(raw_master)\n",
    "\n",
    "\n",
    "max_date_available = mod.all_sales.calendar_yearmonth.max()\n",
    "filter_date = min(201912, max_date_available)\n",
    "dwps = util.create_list_period(201601, filter_date, False)\n",
    "dwp, dtp = util.get_all_combination_date(dwps, 12)\n",
    "\n",
    "print(\"creating the main table\") \n",
    "table_all_features = mod.create_all_features(dwp, dtp)\n",
    "# table_all_features.to_csv('./data/feature_table_1019.csv')  "
   ]
  },
  {
   "cell_type": "code",
   "execution_count": 26,
   "metadata": {},
   "outputs": [
    {
     "data": {
      "text/html": [
       "<div>\n",
       "<style scoped>\n",
       "    .dataframe tbody tr th:only-of-type {\n",
       "        vertical-align: middle;\n",
       "    }\n",
       "\n",
       "    .dataframe tbody tr th {\n",
       "        vertical-align: top;\n",
       "    }\n",
       "\n",
       "    .dataframe thead th {\n",
       "        text-align: right;\n",
       "    }\n",
       "</style>\n",
       "<table border=\"1\" class=\"dataframe\">\n",
       "  <thead>\n",
       "    <tr style=\"text-align: right;\">\n",
       "      <th></th>\n",
       "      <th>country</th>\n",
       "      <th>brand</th>\n",
       "      <th>tier</th>\n",
       "      <th>stage</th>\n",
       "      <th>label</th>\n",
       "      <th>sku_wo_pkg</th>\n",
       "      <th>date_when_predicting</th>\n",
       "      <th>date_to_predict</th>\n",
       "      <th>country_brand_tier_stage_label_sales12</th>\n",
       "      <th>country_brand_tier_stage_label_sales11</th>\n",
       "      <th>...</th>\n",
       "      <th>sell_in_stage_sales2</th>\n",
       "      <th>sell_in_stage_sales1</th>\n",
       "      <th>month</th>\n",
       "      <th>sin_month</th>\n",
       "      <th>cos_month</th>\n",
       "      <th>target</th>\n",
       "      <th>di</th>\n",
       "      <th>eib</th>\n",
       "      <th>il</th>\n",
       "      <th>horizon</th>\n",
       "    </tr>\n",
       "  </thead>\n",
       "  <tbody>\n",
       "    <tr>\n",
       "      <td>0</td>\n",
       "      <td>ANZ</td>\n",
       "      <td>APT</td>\n",
       "      <td>PF</td>\n",
       "      <td>1</td>\n",
       "      <td>di</td>\n",
       "      <td>ANZ_APT_PF_1</td>\n",
       "      <td>201601</td>\n",
       "      <td>201602</td>\n",
       "      <td>0.000000</td>\n",
       "      <td>0.000000</td>\n",
       "      <td>...</td>\n",
       "      <td>16.64</td>\n",
       "      <td>1572.242551</td>\n",
       "      <td>0.166667</td>\n",
       "      <td>0.5</td>\n",
       "      <td>0.866025</td>\n",
       "      <td>0.000000</td>\n",
       "      <td>1</td>\n",
       "      <td>0</td>\n",
       "      <td>0</td>\n",
       "      <td>1</td>\n",
       "    </tr>\n",
       "    <tr>\n",
       "      <td>1</td>\n",
       "      <td>ANZ</td>\n",
       "      <td>APT</td>\n",
       "      <td>PF</td>\n",
       "      <td>1</td>\n",
       "      <td>eib</td>\n",
       "      <td>ANZ_APT_PF_1</td>\n",
       "      <td>201601</td>\n",
       "      <td>201602</td>\n",
       "      <td>26.277084</td>\n",
       "      <td>17.781471</td>\n",
       "      <td>...</td>\n",
       "      <td>16.64</td>\n",
       "      <td>1572.242551</td>\n",
       "      <td>0.166667</td>\n",
       "      <td>0.5</td>\n",
       "      <td>0.866025</td>\n",
       "      <td>22.343157</td>\n",
       "      <td>0</td>\n",
       "      <td>1</td>\n",
       "      <td>0</td>\n",
       "      <td>1</td>\n",
       "    </tr>\n",
       "  </tbody>\n",
       "</table>\n",
       "<p>2 rows × 196 columns</p>\n",
       "</div>"
      ],
      "text/plain": [
       "  country brand tier stage label    sku_wo_pkg  date_when_predicting  \\\n",
       "0     ANZ   APT   PF     1    di  ANZ_APT_PF_1                201601   \n",
       "1     ANZ   APT   PF     1   eib  ANZ_APT_PF_1                201601   \n",
       "\n",
       "   date_to_predict  country_brand_tier_stage_label_sales12  \\\n",
       "0           201602                                0.000000   \n",
       "1           201602                               26.277084   \n",
       "\n",
       "   country_brand_tier_stage_label_sales11  ...  sell_in_stage_sales2  \\\n",
       "0                                0.000000  ...                 16.64   \n",
       "1                               17.781471  ...                 16.64   \n",
       "\n",
       "   sell_in_stage_sales1     month  sin_month  cos_month     target  di  eib  \\\n",
       "0           1572.242551  0.166667        0.5   0.866025   0.000000   1    0   \n",
       "1           1572.242551  0.166667        0.5   0.866025  22.343157   0    1   \n",
       "\n",
       "   il  horizon  \n",
       "0   0        1  \n",
       "1   0        1  \n",
       "\n",
       "[2 rows x 196 columns]"
      ]
     },
     "execution_count": 26,
     "metadata": {},
     "output_type": "execute_result"
    }
   ],
   "source": [
    "table_all_features[:2]"
   ]
  },
  {
   "cell_type": "code",
   "execution_count": 4,
   "metadata": {},
   "outputs": [],
   "source": [
    "# table_all_features = pd.read_csv('./data/feature_table.csv')  "
   ]
  },
  {
   "cell_type": "code",
   "execution_count": 5,
   "metadata": {},
   "outputs": [],
   "source": [
    "from copy import deepcopy\n",
    "\n",
    "XGBOOST_PARAMETERS = {\n",
    "            'max_depth': 11,  # 25\n",
    "            'gamma': 0.02,\n",
    "            'subsample': 0.4,\n",
    "            'n_estimators': 27,\n",
    "            'learning_rate': 0.1,\n",
    "            'n_jobs': 12,\n",
    "            'verbosity': 2\n",
    "        }\n",
    "dico_params_eib = {}\n",
    "for i in range(1,13):\n",
    "    dico_params_eib[i] = XGBOOST_PARAMETERS.copy()\n",
    "\n",
    "#dico_params[7]['n_estimators'] = 49\n",
    "dico_params_eib[5]['n_estimators'] = 27 \n",
    "dico_params_eib[6]['n_estimators'] = 45\n",
    "dico_params_eib[7]['n_estimators'] = 31  \n",
    "dico_params_eib[8]['n_estimators'] = 47 \n",
    "dico_params_eib[9]['n_estimators'] = 13 \n",
    "dico_params_eib[10]['n_estimators'] = 27\n",
    "\n",
    "dico_params_di = deepcopy(dico_params_eib)\n",
    "dico_params_di[2]['n_estimators'] = 350\n",
    "dico_params_di[3]['n_estimators'] = 350\n",
    "dico_params_di[4]['n_estimators'] = 120\n",
    "dico_params_di[5]['n_estimators'] = 91\n",
    "dico_params_di[6]['n_estimators'] = 81\n"
   ]
  },
  {
   "cell_type": "code",
   "execution_count": 6,
   "metadata": {},
   "outputs": [],
   "source": [
    "params={}\n",
    "params['eib']= dico_params_eib\n",
    "params['di'] = dico_params_di"
   ]
  },
  {
   "cell_type": "code",
   "execution_count": 7,
   "metadata": {},
   "outputs": [],
   "source": [
    "dwp_test = util.create_list_period(201601, 201912, False) "
   ]
  },
  {
   "cell_type": "code",
   "execution_count": null,
   "metadata": {},
   "outputs": [],
   "source": [
    "res = mod.recreate_past_forecasts(table_all_features, dwp_test, params, 201912,12)   "
   ]
  },
  {
   "cell_type": "code",
   "execution_count": null,
   "metadata": {},
   "outputs": [],
   "source": [
    "# mod.feature_importance "
   ]
  },
  {
   "cell_type": "code",
   "execution_count": null,
   "metadata": {},
   "outputs": [],
   "source": [
    "# res.head()"
   ]
  },
  {
   "cell_type": "code",
   "execution_count": null,
   "metadata": {},
   "outputs": [],
   "source": [
    "res.to_csv('./data/res_20200210.csv')  "
   ]
  },
  {
   "cell_type": "code",
   "execution_count": null,
   "metadata": {},
   "outputs": [],
   "source": [
    "res = pd.read_csv('./data/res_20200210.csv')   "
   ]
  },
  {
   "cell_type": "code",
   "execution_count": null,
   "metadata": {},
   "outputs": [],
   "source": [
    "res.head()"
   ]
  },
  {
   "cell_type": "code",
   "execution_count": null,
   "metadata": {},
   "outputs": [],
   "source": [
    "# res['date_to_predict'] = pd.to_datetime(res['date_to_predict'])  \n",
    "test = diagnostic.Diagnostic(cvr=res, raw_master=raw_master, postprocess='indep')\n",
    "\n",
    "# res.to_csv('./data/cvr.csv')  \n",
    "test.cvr.to_csv('./data/cvr_20200210.csv')  \n",
    "temp = test.run_test(plot=False, prediction_horizon=6)  "
   ]
  },
  {
   "cell_type": "code",
   "execution_count": null,
   "metadata": {},
   "outputs": [],
   "source": [
    "# month_min=24 # minimal age in month at date when predicting\n",
    "# pred_horizon = 3\n",
    "# test = diagnostic.Diagnostic(cvr=res[(res.horizon==3)], raw_master=raw_master, postprocess='indep')\n",
    "# temp = test.run_test(plot=False, prediction_horizon=3, MINIMUM_HISTO = month_min + pred_horizon)"
   ]
  },
  {
   "cell_type": "code",
   "execution_count": null,
   "metadata": {},
   "outputs": [],
   "source": [
    "# month_min=24 # minimal age in month at date when predicting\n",
    "# pred_horizon = 6\n",
    "# test = diagnostic.Diagnostic(cvr=res[(res.horizon==6)], raw_master=raw_master, postprocess='indep')\n",
    "# temp = test.run_test(plot=False, prediction_horizon=6, MINIMUM_HISTO = month_min + pred_horizon)"
   ]
  },
  {
   "cell_type": "code",
   "execution_count": null,
   "metadata": {},
   "outputs": [],
   "source": [
    "# from src.forecaster.utilitaires import fa_score, fa_score_prime, bias_score, add_sku_age\n",
    "# master_il = add_sku_age(raw_master, 'date', ['sku_wo_pkg'],\n",
    "#                                          ['offtake_di', 'offtake_il', 'offtake_eib'],\n",
    "#                                          Thre_abs=12, Thre_rel=0.02)\n",
    "\n",
    "\n",
    "\n",
    "# cvr = test.ensure_output_format(res[(res.horizon==6)], True)\n",
    "\n",
    "# age = master_il[['date', 'sku_wo_pkg', 'country', 'brand', 'tier', 'stage', 'age_offtake_di',\n",
    "#                               'age_offtake_il', 'age_offtake_eib']][master_il.date >= cvr.date.min()]\n",
    "# age = age.rename(columns={'date': 'date'})\n",
    "# age['date'] = pd.to_datetime(age['date'], format='%Y%m')\n",
    "\n",
    "# cvr = cvr.merge(age, on=['date', 'sku_wo_pkg'], how='left', validate='m:1').fillna(-99)"
   ]
  },
  {
   "cell_type": "code",
   "execution_count": null,
   "metadata": {},
   "outputs": [],
   "source": [
    "# cvr_ "
   ]
  },
  {
   "cell_type": "code",
   "execution_count": null,
   "metadata": {},
   "outputs": [],
   "source": [
    "# num = 0\n",
    "# for i in [\n",
    "# #     201807,201808,201809,201810,201811,201812,\n",
    "# #           201901,\n",
    "#           201902, 201903,201904,201905,201906,\n",
    "#           201907,201908,201909,201910,201911,201912,\n",
    "#           202001,202002,202003,202004,202005,202006,\n",
    "#           202007,202008,202009,202010,202011,202012]:\n",
    "\n",
    "#     cvr_ = cvr[(cvr.date_when_predicting_x==201902)&(cvr.age_offtake_di>=(30-num))]     \n",
    "#     print( 'month when get actuals '+ str(i) )\n",
    "#     print('mature sku number:'+ str(cvr_['sku_wo_pkg'].nunique()))\n",
    "#     print(cvr_['sku_wo_pkg'].unique())  \n",
    "#     print(cvr_.target_di.sum()/(cvr[(cvr.date_when_predicting_x==201902)].target_di.sum()))\n",
    "#     num = num +1   "
   ]
  },
  {
   "cell_type": "code",
   "execution_count": null,
   "metadata": {},
   "outputs": [],
   "source": [
    "# # res['date_to_predict'] = pd.to_datetime(res['date_to_predict'])  \n",
    "# test = diagnostic.Diagnostic(cvr=res, raw_master=raw_master, postprocess='indep')\n",
    "# x\n",
    "# # res.to_csv('./data/cvr.csv')  \n",
    "# test.cvr.to_csv('./data/cvr_1115.csv')  \n",
    "# temp = test.run_test(plot=False, prediction_horizon=3) "
   ]
  },
  {
   "cell_type": "code",
   "execution_count": null,
   "metadata": {},
   "outputs": [],
   "source": [
    "# temporary_ANZ= res[res.sku_wo_pkg.isin(['ANZ_APT_PN_3', 'ANZ_APT_PN_4', 'ANZ_APT_PN_2'])]\n",
    "# print(temporary_ANZ.sku_wo_pkg.unique())\n",
    "\n",
    "# test = diagnostic.Diagnostic(cvr=temporary_ANZ, raw_master =raw_master, postprocess='indep')\n",
    "# temp = test.run_test(plot=False, prediction_horizon=3)"
   ]
  },
  {
   "cell_type": "code",
   "execution_count": null,
   "metadata": {},
   "outputs": [],
   "source": []
  },
  {
   "cell_type": "code",
   "execution_count": null,
   "metadata": {},
   "outputs": [],
   "source": [
    "# df['date'] = pd.to_datetime(df['date'])"
   ]
  },
  {
   "cell_type": "code",
   "execution_count": null,
   "metadata": {},
   "outputs": [],
   "source": [
    "# df.to_csv('C:/Users/zhaozi/AF_New_Model/Data/INP_CHI_FRC_IL_OFFTAKE_CHANNEL_2.csv') "
   ]
  }
 ],
 "metadata": {
  "hide_input": false,
  "kernelspec": {
   "display_name": "Python 3",
   "language": "python",
   "name": "python3"
  },
  "language_info": {
   "codemirror_mode": {
    "name": "ipython",
    "version": 3
   },
   "file_extension": ".py",
   "mimetype": "text/x-python",
   "name": "python",
   "nbconvert_exporter": "python",
   "pygments_lexer": "ipython3",
   "version": "3.7.4"
  },
  "toc": {
   "base_numbering": 1,
   "nav_menu": {},
   "number_sections": true,
   "sideBar": true,
   "skip_h1_title": false,
   "title_cell": "Table of Contents",
   "title_sidebar": "Contents",
   "toc_cell": false,
   "toc_position": {},
   "toc_section_display": true,
   "toc_window_display": false
  },
  "varInspector": {
   "cols": {
    "lenName": 16,
    "lenType": 16,
    "lenVar": 40
   },
   "kernels_config": {
    "python": {
     "delete_cmd_postfix": "",
     "delete_cmd_prefix": "del ",
     "library": "var_list.py",
     "varRefreshCmd": "print(var_dic_list())"
    },
    "r": {
     "delete_cmd_postfix": ") ",
     "delete_cmd_prefix": "rm(",
     "library": "var_list.r",
     "varRefreshCmd": "cat(var_dic_list()) "
    }
   },
   "types_to_exclude": [
    "module",
    "function",
    "builtin_function_or_method",
    "instance",
    "_Feature"
   ],
   "window_display": false
  }
 },
 "nbformat": 4,
 "nbformat_minor": 4
}
